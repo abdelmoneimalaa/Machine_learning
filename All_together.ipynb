{
 "cells": [
  {
   "cell_type": "code",
   "execution_count": 1,
   "metadata": {},
   "outputs": [],
   "source": [
    "import torch\n",
    "import numpy as np\n",
    "from torch import nn\n",
    "import matplotlib.pyplot as plt"
   ]
  },
  {
   "cell_type": "markdown",
   "metadata": {},
   "source": [
    "## 1. Data"
   ]
  },
  {
   "cell_type": "code",
   "execution_count": 2,
   "metadata": {},
   "outputs": [],
   "source": [
    "# Create data using linear regression y= mx+c\n",
    "weight = 0.5\n",
    "bias = 0.2\n",
    "\n",
    "#Create range values\n",
    "start = 0\n",
    "end = 1\n",
    "step = 0.02\n",
    "\n",
    "#Create X and Y (features and labels)\n",
    "X = torch.arange(start, end, step).unsqueeze(dim=1)\n",
    "y = weight*X + bias\n"
   ]
  },
  {
   "cell_type": "code",
   "execution_count": 3,
   "metadata": {},
   "outputs": [],
   "source": [
    "#split the data\n",
    "train_split = int(0.8* len(X))\n",
    "X_train, y_train = X[:train_split], y[:train_split]\n",
    "X_test , y_test = X[train_split:], y[train_split:]\n"
   ]
  },
  {
   "cell_type": "code",
   "execution_count": 4,
   "metadata": {},
   "outputs": [],
   "source": [
    "#plot prediction function\n",
    "def plot_predictions(train_data= X_train,\n",
    "                     train_labels = y_train,\n",
    "                     test_data= X_test,\n",
    "                     test_labels = y_test,\n",
    "                     predictions = None):\n",
    "    plt.figure(figsize=(10,7))\n",
    "    plt.scatter(train_data, train_labels, c = \"b\", s=4, label = \"Training data\")\n",
    "    plt.scatter(test_data, test_labels, c = \"g\", s=4, label = \"Testing data\")\n",
    "    if predictions is not None:\n",
    "        plt.scatter(test_data, predictions, c=\"r\", s=4, label = \"Predictions\")\n",
    "        \n",
    "    plt.legend(prop={\"size\": 14})\n"
   ]
  },
  {
   "cell_type": "code",
   "execution_count": 5,
   "metadata": {},
   "outputs": [
    {
     "data": {
      "image/png": "[encoded data removed]",
      "text/plain": [
       "<Figure size 1000x700 with 1 Axes>"
      ]
     },
     "metadata": {},
     "output_type": "display_data"
    }
   ],
   "source": [
    "plot_predictions(X_train , y_train, X_test, y_test)"
   ]
  },
  {
   "cell_type": "markdown",
   "metadata": {},
   "source": [
    "## 2.Building pytorch linear model"
   ]
  },
  {
   "cell_type": "code",
   "execution_count": 6,
   "metadata": {},
   "outputs": [
    {
     "data": {
      "text/plain": [
       "(LinearRegressionModelV2(\n",
       "   (linear_layer): Linear(in_features=1, out_features=1, bias=True)\n",
       " ),\n",
       " OrderedDict([('linear_layer.weight', tensor([[0.5823]])),\n",
       "              ('linear_layer.bias', tensor([0.2837]))]))"
      ]
     },
     "execution_count": 6,
     "metadata": {},
     "output_type": "execute_result"
    }
   ],
   "source": [
    "#create linear model by subclassing nn.module\n",
    "class LinearRegressionModelV2(nn.Module):\n",
    "    def __init__(self):\n",
    "        super().__init__()\n",
    "        # use nn.linear() for creating model parameter\n",
    "        self.linear_layer = nn.Linear(in_features=1, out_features=1)\n",
    "    def forward(self, x: torch.Tensor) -> torch.Tensor:\n",
    "        return self.linear_layer(x)\n",
    "        \n",
    "torch.manual_seed(37)\n",
    "model_1 = LinearRegressionModelV2()\n",
    "model_1 , model_1.state_dict()"
   ]
  },
  {
   "cell_type": "markdown",
   "metadata": {},
   "source": [
    "## 3 Training \n",
    "* loss function\n",
    "* optimizer\n",
    "* training loop\n",
    "* testing loop"
   ]
  },
  {
   "cell_type": "code",
   "execution_count": 7,
   "metadata": {},
   "outputs": [],
   "source": [
    "loss_fn = nn.L1Loss()\n",
    "optimizer = torch.optim.SGD(params= model_1.parameters(), lr = 0.1)\n"
   ]
  },
  {
   "cell_type": "code",
   "execution_count": 8,
   "metadata": {},
   "outputs": [
    {
     "name": "stdout",
     "output_type": "stream",
     "text": [
      "Epoch: 0 | Loss: 0.11581681668758392 | Test loss: 0.022237813100218773\n",
      "Epoch: 10 | Loss: 0.012934151105582714 | Test loss: 0.13245677947998047\n",
      "Epoch: 20 | Loss: 0.012934151105582714 | Test loss: 0.13245677947998047\n",
      "Epoch: 30 | Loss: 0.012934151105582714 | Test loss: 0.13245677947998047\n",
      "Epoch: 40 | Loss: 0.012934151105582714 | Test loss: 0.13245677947998047\n",
      "Epoch: 50 | Loss: 0.012934151105582714 | Test loss: 0.13245677947998047\n",
      "Epoch: 60 | Loss: 0.012934151105582714 | Test loss: 0.13245677947998047\n",
      "Epoch: 70 | Loss: 0.012934151105582714 | Test loss: 0.13245677947998047\n",
      "Epoch: 80 | Loss: 0.012934151105582714 | Test loss: 0.13245677947998047\n",
      "Epoch: 90 | Loss: 0.012934151105582714 | Test loss: 0.13245677947998047\n",
      "Epoch: 100 | Loss: 0.012934151105582714 | Test loss: 0.13245677947998047\n",
      "Epoch: 110 | Loss: 0.012934151105582714 | Test loss: 0.13245677947998047\n",
      "Epoch: 120 | Loss: 0.012934151105582714 | Test loss: 0.13245677947998047\n",
      "Epoch: 130 | Loss: 0.012934151105582714 | Test loss: 0.13245677947998047\n",
      "Epoch: 140 | Loss: 0.012934151105582714 | Test loss: 0.13245677947998047\n",
      "Epoch: 150 | Loss: 0.012934151105582714 | Test loss: 0.13245677947998047\n",
      "Epoch: 160 | Loss: 0.012934151105582714 | Test loss: 0.13245677947998047\n",
      "Epoch: 170 | Loss: 0.012934151105582714 | Test loss: 0.13245677947998047\n",
      "Epoch: 180 | Loss: 0.012934151105582714 | Test loss: 0.13245677947998047\n",
      "Epoch: 190 | Loss: 0.012934151105582714 | Test loss: 0.13245677947998047\n"
     ]
    }
   ],
   "source": [
    "torch.manual_seed(37)\n",
    "\n",
    "epochs = 200\n",
    "\n",
    "for epoch in range(epochs):\n",
    "    model_1.train()\n",
    "    #Forward propagation\n",
    "    y_pred = model_1(X_train)\n",
    "    # loss calculate\n",
    "    loss = loss_fn(y_pred, y_train)\n",
    "    # optimizer zero grad\n",
    "    optimizer.zero_grad()\n",
    "    # back propagtation\n",
    "    loss.backward()    \n",
    "    # optimizer step\n",
    "    optimizer.step()\n",
    "    \n",
    "    ###Testing\n",
    "    model_1.eval()\n",
    "    with torch.inference_mode():\n",
    "        test_pred = model_1(X_test)\n",
    "        test_loss = loss_fn(test_pred, y_test)\n",
    "        \n",
    "    if epoch % 10 == 0:\n",
    "        print(f\"Epoch: {epoch} | Loss: {loss} | Test loss: {test_loss}\")\n",
    "    \n",
    "\n"
   ]
  },
  {
   "cell_type": "code",
   "execution_count": 9,
   "metadata": {},
   "outputs": [
    {
     "data": {
      "text/plain": [
       "OrderedDict([('linear_layer.weight', tensor([[0.5214]])),\n",
       "             ('linear_layer.bias', tensor([0.1787]))])"
      ]
     },
     "execution_count": 9,
     "metadata": {},
     "output_type": "execute_result"
    }
   ],
   "source": [
    "model_1.state_dict()"
   ]
  },
  {
   "cell_type": "markdown",
   "metadata": {},
   "source": [
    "### 4. Making eval predictions"
   ]
  },
  {
   "cell_type": "code",
   "execution_count": 10,
   "metadata": {},
   "outputs": [
    {
     "data": {
      "text/plain": [
       "tensor([[0.5958],\n",
       "        [0.6063],\n",
       "        [0.6167],\n",
       "        [0.6271],\n",
       "        [0.6375],\n",
       "        [0.6480],\n",
       "        [0.6584],\n",
       "        [0.6688],\n",
       "        [0.6792],\n",
       "        [0.6897]])"
      ]
     },
     "execution_count": 10,
     "metadata": {},
     "output_type": "execute_result"
    }
   ],
   "source": [
    "model_1.eval()\n",
    "\n",
    "with torch.inference_mode():\n",
    "    y_pred = model_1(X_test)\n",
    "y_pred"
   ]
  },
  {
   "cell_type": "code",
   "execution_count": 11,
   "metadata": {},
   "outputs": [
    {
     "data": {
      "image/png": "[encoded data removed]",
      "text/plain": [
       "<Figure size 1000x700 with 1 Axes>"
      ]
     },
     "metadata": {},
     "output_type": "display_data"
    }
   ],
   "source": [
    "plot_predictions(predictions=y_pred)"
   ]
  },
  {
   "cell_type": "markdown",
   "metadata": {},
   "source": [
    "### 5. Saving & loading model"
   ]
  },
  {
   "cell_type": "code",
   "execution_count": 12,
   "metadata": {},
   "outputs": [
    {
     "name": "stdout",
     "output_type": "stream",
     "text": [
      "saving model to: models\\number1_model.pt\n"
     ]
    }
   ],
   "source": [
    "from pathlib import Path\n",
    "\n",
    "# 1. Create models directory\n",
    "MODEL_PATH = Path(\"models\")\n",
    "MODEL_PATH.mkdir(parents=True, exist_ok=True)\n",
    "\n",
    "#2 Create model save path\n",
    "Model_name = \"number1_model.pt\"\n",
    "Model_save_path = MODEL_PATH / Model_name\n",
    "\n",
    "#3 Save the model state dict\n",
    "print(f\"saving model to: {Model_save_path}\")\n",
    "torch.save(obj=model_1.state_dict(), f=Model_save_path)\n"
   ]
  },
  {
   "cell_type": "code",
   "execution_count": 13,
   "metadata": {},
   "outputs": [
    {
     "data": {
      "text/plain": [
       "LinearRegressionModelV2(\n",
       "  (linear_layer): Linear(in_features=1, out_features=1, bias=True)\n",
       ")"
      ]
     },
     "execution_count": 13,
     "metadata": {},
     "output_type": "execute_result"
    }
   ],
   "source": [
    "#load a Pytorch\n",
    "loaded_model_1 = LinearRegressionModelV2()\n",
    "loaded_model_1.load_state_dict(torch.load(Model_save_path))\n",
    "loaded_model_1.to(\"cpu\")\n"
   ]
  },
  {
   "cell_type": "code",
   "execution_count": 14,
   "metadata": {},
   "outputs": [
    {
     "data": {
      "text/plain": [
       "OrderedDict([('linear_layer.weight', tensor([[0.5214]])),\n",
       "             ('linear_layer.bias', tensor([0.1787]))])"
      ]
     },
     "execution_count": 14,
     "metadata": {},
     "output_type": "execute_result"
    }
   ],
   "source": [
    "loaded_model_1.state_dict()"
   ]
  },
  {
   "cell_type": "code",
   "execution_count": 15,
   "metadata": {},
   "outputs": [
    {
     "data": {
      "text/plain": [
       "tensor([[True],\n",
       "        [True],\n",
       "        [True],\n",
       "        [True],\n",
       "        [True],\n",
       "        [True],\n",
       "        [True],\n",
       "        [True],\n",
       "        [True],\n",
       "        [True]])"
      ]
     },
     "execution_count": 15,
     "metadata": {},
     "output_type": "execute_result"
    }
   ],
   "source": [
    "loaded_model_1.eval()\n",
    "with torch.inference_mode():\n",
    "    loaded_model_1_preds = loaded_model_1(X_test)\n",
    "y_pred == loaded_model_1_preds"
   ]
  },
  {
   "cell_type": "code",
   "execution_count": null,
   "metadata": {},
   "outputs": [],
   "source": []
  }
 ],
 "metadata": {
  "kernelspec": {
   "display_name": "ML",
   "language": "python",
   "name": "python3"
  },
  "language_info": {
   "codemirror_mode": {
    "name": "ipython",
    "version": 3
   },
   "file_extension": ".py",
   "mimetype": "text/x-python",
   "name": "python",
   "nbconvert_exporter": "python",
   "pygments_lexer": "ipython3",
   "version": "3.10.14"
  }
 },
 "nbformat": 4,
 "nbformat_minor": 2
}
